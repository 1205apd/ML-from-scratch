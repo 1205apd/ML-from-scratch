{
 "cells": [
  {
   "cell_type": "code",
   "execution_count": 1,
   "id": "3d723999",
   "metadata": {},
   "outputs": [],
   "source": [
    "import numpy as np\n",
    "import pandas as pd\n",
    "from sklearn import datasets\n",
    "from sklearn.model_selection import train_test_split\n",
    "import matplotlib.pyplot as plt"
   ]
  },
  {
   "cell_type": "code",
   "execution_count": 2,
   "id": "767892a9",
   "metadata": {},
   "outputs": [],
   "source": [
    "iris=datasets.load_iris()\n",
    "X,y=iris.data,iris.target"
   ]
  },
  {
   "cell_type": "code",
   "execution_count": 3,
   "id": "b5cbf3c7",
   "metadata": {},
   "outputs": [],
   "source": [
    "X_train,X_test,y_train,y_test=train_test_split(X,y,test_size=0.2,random_state=1234)"
   ]
  },
  {
   "cell_type": "raw",
   "id": "d05aa3d7",
   "metadata": {},
   "source": [
    "X_train.shape,y_train.shape,X_test.shape,y_test.shape"
   ]
  },
  {
   "cell_type": "raw",
   "id": "92b69e61",
   "metadata": {},
   "source": [
    "print(X_train[0])"
   ]
  },
  {
   "cell_type": "raw",
   "id": "f6e25916",
   "metadata": {},
   "source": [
    "print(y_train)"
   ]
  },
  {
   "cell_type": "raw",
   "id": "bbe0ef60",
   "metadata": {},
   "source": [
    "plt.figure()\n",
    "plt.scatter(X[:,0],X[:,1],c=y)"
   ]
  },
  {
   "cell_type": "code",
   "execution_count": 4,
   "id": "3b146e7c",
   "metadata": {},
   "outputs": [],
   "source": [
    "from collections import Counter"
   ]
  },
  {
   "cell_type": "code",
   "execution_count": 5,
   "id": "3feecae6",
   "metadata": {},
   "outputs": [
    {
     "name": "stdout",
     "output_type": "stream",
     "text": [
      "1\n"
     ]
    }
   ],
   "source": [
    "a=[1,1,1,2,2,3,4,5,6]\n",
    "most_common=Counter(a).most_common(1) #return which item and how many times\n",
    "print(most_common[0][0])"
   ]
  },
  {
   "cell_type": "code",
   "execution_count": 6,
   "id": "385fe272",
   "metadata": {},
   "outputs": [],
   "source": [
    "def euclidean_distance(x1,x2):\n",
    "    return np.sqrt(np.sum((x1- x2)**2))"
   ]
  },
  {
   "cell_type": "code",
   "execution_count": 7,
   "id": "5a7c07b4",
   "metadata": {},
   "outputs": [],
   "source": [
    "class KNN:\n",
    "    def __init__(self,k=3):\n",
    "        self.k=k\n",
    "    def fit(self,X,y):\n",
    "        self.X_train=X\n",
    "        self.y_train=y\n",
    "    def predict(self,X):\n",
    "        predicted_labels= [self._predict(x) for x in X]\n",
    "        return np.array(predicted_labels)\n",
    "    def _predict(self,x):\n",
    "        #compute distances\n",
    "        distances=[euclidean_distance(x,x_train) for x_train in self.X_train]\n",
    "        \n",
    "        #get knn samples, labels\n",
    "        k_indices=np.argsort(distances)[:self.k]\n",
    "        knn_labels = [self.y_train[i] for i in k_indices]\n",
    "        \n",
    "        #majority vote   most common class label\n",
    "        most_common=Counter(knn_labels).most_common(1)\n",
    "        return most_common[0][0]"
   ]
  },
  {
   "cell_type": "code",
   "execution_count": 8,
   "id": "757cc1af",
   "metadata": {},
   "outputs": [],
   "source": [
    "clf=KNN(k=5)\n",
    "clf.fit(X_train,y_train)\n",
    "predictions=clf.predict(X_test)"
   ]
  },
  {
   "cell_type": "code",
   "execution_count": 9,
   "id": "7be411ab",
   "metadata": {},
   "outputs": [
    {
     "name": "stdout",
     "output_type": "stream",
     "text": [
      "0.9666666666666667\n"
     ]
    }
   ],
   "source": [
    "acc=np.sum(predictions==y_test)/len(y_test)\n",
    "print(acc)"
   ]
  },
  {
   "cell_type": "code",
   "execution_count": null,
   "id": "d5e4aa05",
   "metadata": {},
   "outputs": [],
   "source": []
  }
 ],
 "metadata": {
  "kernelspec": {
   "display_name": "Python 3",
   "language": "python",
   "name": "python3"
  },
  "language_info": {
   "codemirror_mode": {
    "name": "ipython",
    "version": 3
   },
   "file_extension": ".py",
   "mimetype": "text/x-python",
   "name": "python",
   "nbconvert_exporter": "python",
   "pygments_lexer": "ipython3",
   "version": "3.8.10"
  },
  "varInspector": {
   "cols": {
    "lenName": 16,
    "lenType": 16,
    "lenVar": 40
   },
   "kernels_config": {
    "python": {
     "delete_cmd_postfix": "",
     "delete_cmd_prefix": "del ",
     "library": "var_list.py",
     "varRefreshCmd": "print(var_dic_list())"
    },
    "r": {
     "delete_cmd_postfix": ") ",
     "delete_cmd_prefix": "rm(",
     "library": "var_list.r",
     "varRefreshCmd": "cat(var_dic_list()) "
    }
   },
   "types_to_exclude": [
    "module",
    "function",
    "builtin_function_or_method",
    "instance",
    "_Feature"
   ],
   "window_display": false
  }
 },
 "nbformat": 4,
 "nbformat_minor": 5
}
